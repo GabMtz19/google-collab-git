{
  "cells": [
    {
      "cell_type": "markdown",
      "metadata": {
        "id": "view-in-github",
        "colab_type": "text"
      },
      "source": [
        "<a href=\"https://colab.research.google.com/github/Gab0Mtz/semanatec-mayo-22/blob/main/6_3_Actividad_Regresion_Linea.ipynb\" target=\"_parent\"><img src=\"https://colab.research.google.com/assets/colab-badge.svg\" alt=\"Open In Colab\"/></a>"
      ]
    },
    {
      "cell_type": "markdown",
      "metadata": {
        "id": "uZG-eTYxl_dk"
      },
      "source": [
        "# Actividad\n",
        "Equipo 3\n",
        "\n",
        "- Gabriel Martínez Berrones: A00517149\n",
        "- Alfredo Hernández Lucio: A00830196\n",
        "- Juan Pablo Chávez Moreira: A01721844"
      ]
    },
    {
      "cell_type": "markdown",
      "metadata": {
        "id": "binding-wilderness"
      },
      "source": [
        "# Entregar \n",
        "Archivo PDF de la actividad y la liga de la actividad en su repostitorio.\n",
        "\n",
        "# Nota: \n",
        "Esta actividad se evaluará de acuerdo a la rúbrica en Canvas.\n",
        "\n",
        "Al integrante que no participe en la actividad no se le tomará en cuenta para la calificación.\n",
        "\n",
        "El límite para entregar las actividades es el viernes antes de las 23:59.\n",
        "\n",
        "# Importante: \n",
        "- Colocar nombre en ejes en gráficas\n",
        "- Nombre en gráficas \n",
        "- Conclusiones con el nombre de cada alumno\n",
        "- Contestar cada pregunta\n"
      ]
    },
    {
      "cell_type": "markdown",
      "metadata": {
        "id": "SM977Uzc56Qx"
      },
      "source": [
        "**Gastos en seguro**"
      ]
    },
    {
      "cell_type": "markdown",
      "metadata": {
        "id": "rhGhKyEz6GLN"
      },
      "source": [
        "Nuestro objetivo será construir un modelo que nos permita estimar los gastos de seguro dependiendo de edad,sexo, indice de masa corporal, numero de hijos, si se fuma, región.\n",
        "\n",
        "El dataset consta de las columnas: \n",
        "- age: edad del beneficiario principal\n",
        "- sex: female o male \n",
        "- bmi: indice de masa corporal\n",
        "- children: numero de niños que estan cubiertos con la poliza. \n",
        "- smoke: si fuma el beneficiario si/no\n",
        "- region: región en dónde vive el beneficiario. Estos datos son de Estados Unidos. Regiones disponibles: northeast, southeast, southwest, northwest\n",
        "- charges: costo del seguro.\n",
        "\n",
        "\n",
        "Referencia de dataset: \n",
        "https://github.com/stedy/Machine-Learning-with-R-datasets/blob/master/insurance.csv"
      ]
    },
    {
      "cell_type": "markdown",
      "metadata": {
        "id": "Fm5ZBm8x7oFA"
      },
      "source": [
        "1.a. Carga los datos del archivo insurance.csv "
      ]
    },
    {
      "cell_type": "code",
      "execution_count": 2,
      "metadata": {
        "id": "Y3_F5gVu7qKf",
        "colab": {
          "base_uri": "https://localhost:8080/"
        },
        "outputId": "a3d78d9a-ed29-406e-ced2-b0c053a3af5d"
      },
      "outputs": [
        {
          "output_type": "stream",
          "name": "stdout",
          "text": [
            "Mounted at /gdrive\n",
            "/gdrive/MyDrive/SemanaTec/arte-analitica\n"
          ]
        }
      ],
      "source": [
        "import pandas as pd\n",
        "import matplotlib.pyplot as plt\n",
        "import seaborn as sns\n",
        "from sklearn.linear_model import LinearRegression\n",
        "\n",
        "from google.colab import drive\n",
        "drive.mount('/gdrive')\n",
        "%cd /gdrive/MyDrive/SemanaTec/arte-analitica\n",
        "insurance = pd.read_csv('data/insurance.csv')"
      ]
    },
    {
      "cell_type": "markdown",
      "metadata": {
        "id": "VR6KYr9A9Rkz"
      },
      "source": [
        "1.b. Crea unas columnas con las siguientes caracteristicas:\n",
        "- fuma: 1 si el bvalor de smoke es \"yes\" y 0 si el valor de smoke es \"no\" \n",
        "- region: si es northeast - 0 , southeast- 1, southwest- 2, northwest - 3\n",
        "- sexo: 0 si es \"male\" y 1 si es \"female\""
      ]
    },
    {
      "cell_type": "code",
      "execution_count": 3,
      "metadata": {
        "id": "8NvTvpzT9R4O",
        "colab": {
          "base_uri": "https://localhost:8080/",
          "height": 424
        },
        "outputId": "66fea95e-12d7-474d-a0d9-39214b51627b"
      },
      "outputs": [
        {
          "output_type": "execute_result",
          "data": {
            "text/plain": [
              "      age sex     bmi  children smoker region      charges\n",
              "0      19   1  27.900         0      1      2  16884.92400\n",
              "1      18   0  33.770         1      0      1   1725.55230\n",
              "2      28   0  33.000         3      0      1   4449.46200\n",
              "3      33   0  22.705         0      0      3  21984.47061\n",
              "4      32   0  28.880         0      0      3   3866.85520\n",
              "...   ...  ..     ...       ...    ...    ...          ...\n",
              "1333   50   0  30.970         3      0      3  10600.54830\n",
              "1334   18   1  31.920         0      0      0   2205.98080\n",
              "1335   18   1  36.850         0      0      1   1629.83350\n",
              "1336   21   1  25.800         0      0      2   2007.94500\n",
              "1337   61   1  29.070         0      1      3  29141.36030\n",
              "\n",
              "[1338 rows x 7 columns]"
            ],
            "text/html": [
              "\n",
              "  <div id=\"df-e2d12485-e50c-4e2b-b64c-1434248f472e\">\n",
              "    <div class=\"colab-df-container\">\n",
              "      <div>\n",
              "<style scoped>\n",
              "    .dataframe tbody tr th:only-of-type {\n",
              "        vertical-align: middle;\n",
              "    }\n",
              "\n",
              "    .dataframe tbody tr th {\n",
              "        vertical-align: top;\n",
              "    }\n",
              "\n",
              "    .dataframe thead th {\n",
              "        text-align: right;\n",
              "    }\n",
              "</style>\n",
              "<table border=\"1\" class=\"dataframe\">\n",
              "  <thead>\n",
              "    <tr style=\"text-align: right;\">\n",
              "      <th></th>\n",
              "      <th>age</th>\n",
              "      <th>sex</th>\n",
              "      <th>bmi</th>\n",
              "      <th>children</th>\n",
              "      <th>smoker</th>\n",
              "      <th>region</th>\n",
              "      <th>charges</th>\n",
              "    </tr>\n",
              "  </thead>\n",
              "  <tbody>\n",
              "    <tr>\n",
              "      <th>0</th>\n",
              "      <td>19</td>\n",
              "      <td>1</td>\n",
              "      <td>27.900</td>\n",
              "      <td>0</td>\n",
              "      <td>1</td>\n",
              "      <td>2</td>\n",
              "      <td>16884.92400</td>\n",
              "    </tr>\n",
              "    <tr>\n",
              "      <th>1</th>\n",
              "      <td>18</td>\n",
              "      <td>0</td>\n",
              "      <td>33.770</td>\n",
              "      <td>1</td>\n",
              "      <td>0</td>\n",
              "      <td>1</td>\n",
              "      <td>1725.55230</td>\n",
              "    </tr>\n",
              "    <tr>\n",
              "      <th>2</th>\n",
              "      <td>28</td>\n",
              "      <td>0</td>\n",
              "      <td>33.000</td>\n",
              "      <td>3</td>\n",
              "      <td>0</td>\n",
              "      <td>1</td>\n",
              "      <td>4449.46200</td>\n",
              "    </tr>\n",
              "    <tr>\n",
              "      <th>3</th>\n",
              "      <td>33</td>\n",
              "      <td>0</td>\n",
              "      <td>22.705</td>\n",
              "      <td>0</td>\n",
              "      <td>0</td>\n",
              "      <td>3</td>\n",
              "      <td>21984.47061</td>\n",
              "    </tr>\n",
              "    <tr>\n",
              "      <th>4</th>\n",
              "      <td>32</td>\n",
              "      <td>0</td>\n",
              "      <td>28.880</td>\n",
              "      <td>0</td>\n",
              "      <td>0</td>\n",
              "      <td>3</td>\n",
              "      <td>3866.85520</td>\n",
              "    </tr>\n",
              "    <tr>\n",
              "      <th>...</th>\n",
              "      <td>...</td>\n",
              "      <td>...</td>\n",
              "      <td>...</td>\n",
              "      <td>...</td>\n",
              "      <td>...</td>\n",
              "      <td>...</td>\n",
              "      <td>...</td>\n",
              "    </tr>\n",
              "    <tr>\n",
              "      <th>1333</th>\n",
              "      <td>50</td>\n",
              "      <td>0</td>\n",
              "      <td>30.970</td>\n",
              "      <td>3</td>\n",
              "      <td>0</td>\n",
              "      <td>3</td>\n",
              "      <td>10600.54830</td>\n",
              "    </tr>\n",
              "    <tr>\n",
              "      <th>1334</th>\n",
              "      <td>18</td>\n",
              "      <td>1</td>\n",
              "      <td>31.920</td>\n",
              "      <td>0</td>\n",
              "      <td>0</td>\n",
              "      <td>0</td>\n",
              "      <td>2205.98080</td>\n",
              "    </tr>\n",
              "    <tr>\n",
              "      <th>1335</th>\n",
              "      <td>18</td>\n",
              "      <td>1</td>\n",
              "      <td>36.850</td>\n",
              "      <td>0</td>\n",
              "      <td>0</td>\n",
              "      <td>1</td>\n",
              "      <td>1629.83350</td>\n",
              "    </tr>\n",
              "    <tr>\n",
              "      <th>1336</th>\n",
              "      <td>21</td>\n",
              "      <td>1</td>\n",
              "      <td>25.800</td>\n",
              "      <td>0</td>\n",
              "      <td>0</td>\n",
              "      <td>2</td>\n",
              "      <td>2007.94500</td>\n",
              "    </tr>\n",
              "    <tr>\n",
              "      <th>1337</th>\n",
              "      <td>61</td>\n",
              "      <td>1</td>\n",
              "      <td>29.070</td>\n",
              "      <td>0</td>\n",
              "      <td>1</td>\n",
              "      <td>3</td>\n",
              "      <td>29141.36030</td>\n",
              "    </tr>\n",
              "  </tbody>\n",
              "</table>\n",
              "<p>1338 rows × 7 columns</p>\n",
              "</div>\n",
              "      <button class=\"colab-df-convert\" onclick=\"convertToInteractive('df-e2d12485-e50c-4e2b-b64c-1434248f472e')\"\n",
              "              title=\"Convert this dataframe to an interactive table.\"\n",
              "              style=\"display:none;\">\n",
              "        \n",
              "  <svg xmlns=\"http://www.w3.org/2000/svg\" height=\"24px\"viewBox=\"0 0 24 24\"\n",
              "       width=\"24px\">\n",
              "    <path d=\"M0 0h24v24H0V0z\" fill=\"none\"/>\n",
              "    <path d=\"M18.56 5.44l.94 2.06.94-2.06 2.06-.94-2.06-.94-.94-2.06-.94 2.06-2.06.94zm-11 1L8.5 8.5l.94-2.06 2.06-.94-2.06-.94L8.5 2.5l-.94 2.06-2.06.94zm10 10l.94 2.06.94-2.06 2.06-.94-2.06-.94-.94-2.06-.94 2.06-2.06.94z\"/><path d=\"M17.41 7.96l-1.37-1.37c-.4-.4-.92-.59-1.43-.59-.52 0-1.04.2-1.43.59L10.3 9.45l-7.72 7.72c-.78.78-.78 2.05 0 2.83L4 21.41c.39.39.9.59 1.41.59.51 0 1.02-.2 1.41-.59l7.78-7.78 2.81-2.81c.8-.78.8-2.07 0-2.86zM5.41 20L4 18.59l7.72-7.72 1.47 1.35L5.41 20z\"/>\n",
              "  </svg>\n",
              "      </button>\n",
              "      \n",
              "  <style>\n",
              "    .colab-df-container {\n",
              "      display:flex;\n",
              "      flex-wrap:wrap;\n",
              "      gap: 12px;\n",
              "    }\n",
              "\n",
              "    .colab-df-convert {\n",
              "      background-color: #E8F0FE;\n",
              "      border: none;\n",
              "      border-radius: 50%;\n",
              "      cursor: pointer;\n",
              "      display: none;\n",
              "      fill: #1967D2;\n",
              "      height: 32px;\n",
              "      padding: 0 0 0 0;\n",
              "      width: 32px;\n",
              "    }\n",
              "\n",
              "    .colab-df-convert:hover {\n",
              "      background-color: #E2EBFA;\n",
              "      box-shadow: 0px 1px 2px rgba(60, 64, 67, 0.3), 0px 1px 3px 1px rgba(60, 64, 67, 0.15);\n",
              "      fill: #174EA6;\n",
              "    }\n",
              "\n",
              "    [theme=dark] .colab-df-convert {\n",
              "      background-color: #3B4455;\n",
              "      fill: #D2E3FC;\n",
              "    }\n",
              "\n",
              "    [theme=dark] .colab-df-convert:hover {\n",
              "      background-color: #434B5C;\n",
              "      box-shadow: 0px 1px 3px 1px rgba(0, 0, 0, 0.15);\n",
              "      filter: drop-shadow(0px 1px 2px rgba(0, 0, 0, 0.3));\n",
              "      fill: #FFFFFF;\n",
              "    }\n",
              "  </style>\n",
              "\n",
              "      <script>\n",
              "        const buttonEl =\n",
              "          document.querySelector('#df-e2d12485-e50c-4e2b-b64c-1434248f472e button.colab-df-convert');\n",
              "        buttonEl.style.display =\n",
              "          google.colab.kernel.accessAllowed ? 'block' : 'none';\n",
              "\n",
              "        async function convertToInteractive(key) {\n",
              "          const element = document.querySelector('#df-e2d12485-e50c-4e2b-b64c-1434248f472e');\n",
              "          const dataTable =\n",
              "            await google.colab.kernel.invokeFunction('convertToInteractive',\n",
              "                                                     [key], {});\n",
              "          if (!dataTable) return;\n",
              "\n",
              "          const docLinkHtml = 'Like what you see? Visit the ' +\n",
              "            '<a target=\"_blank\" href=https://colab.research.google.com/notebooks/data_table.ipynb>data table notebook</a>'\n",
              "            + ' to learn more about interactive tables.';\n",
              "          element.innerHTML = '';\n",
              "          dataTable['output_type'] = 'display_data';\n",
              "          await google.colab.output.renderOutput(dataTable, element);\n",
              "          const docLink = document.createElement('div');\n",
              "          docLink.innerHTML = docLinkHtml;\n",
              "          element.appendChild(docLink);\n",
              "        }\n",
              "      </script>\n",
              "    </div>\n",
              "  </div>\n",
              "  "
            ]
          },
          "metadata": {},
          "execution_count": 3
        }
      ],
      "source": [
        "insurance['smoker'] = insurance['smoker'].replace(['yes'],'1')\n",
        "insurance['smoker'] = insurance['smoker'].replace(['no'],'0')\n",
        "insurance['region'] = insurance['region'].replace(['northeast'],'0')\n",
        "insurance['region'] = insurance['region'].replace(['southeast'],'1')\n",
        "insurance['region'] = insurance['region'].replace(['southwest'],'2')\n",
        "insurance['region'] = insurance['region'].replace(['northwest'],'3')\n",
        "insurance['sex'] = insurance['sex'].replace(['male'],'0')\n",
        "insurance['sex'] = insurance['sex'].replace(['female'],'1')\n",
        "insurance"
      ]
    },
    {
      "cell_type": "markdown",
      "metadata": {
        "id": "cygVOvVC7zV7"
      },
      "source": [
        "2. Generar una(s) grafica(s) para visuaizar cómo se relaciona cada columna de costo en seguro contra otras variables."
      ]
    },
    {
      "cell_type": "code",
      "execution_count": null,
      "metadata": {
        "id": "l-rXv0kc77Ja",
        "colab": {
          "base_uri": "https://localhost:8080/",
          "height": 441
        },
        "outputId": "7f83d816-e510-4848-cd52-cf4af1510b62"
      },
      "outputs": [
        {
          "output_type": "display_data",
          "data": {
            "text/plain": [
              "<Figure size 864x432 with 6 Axes>"
            ],
            "image/png": "[encoded data removed]"
          },
          "metadata": {
            "needs_background": "light"
          }
        }
      ],
      "source": [
        "fig, axs= plt.subplots(3,2, figsize=(12, 6))\n",
        "sns.scatterplot(data=insurance, x = 'age', y='charges',ax=axs[0][0])\n",
        "sns.scatterplot(data=insurance, x = 'sex', y='charges',ax=axs[0][1])\n",
        "sns.scatterplot(data=insurance, x = 'bmi', y='charges',ax=axs[1][0])\n",
        "sns.scatterplot(data=insurance, x = 'children', y='charges',ax=axs[1][1])\n",
        "sns.scatterplot(data=insurance, x = 'smoker', y='charges',ax=axs[2][0])\n",
        "sns.scatterplot(data=insurance, x = 'region', y='charges',ax=axs[2][1])\n",
        "plt.tight_layout()"
      ]
    },
    {
      "cell_type": "markdown",
      "metadata": {
        "id": "U6utXWVu7_Kg"
      },
      "source": [
        "3. ¿ Qué conclusiones puedes obtener de las graficas anteriores?"
      ]
    },
    {
      "cell_type": "code",
      "execution_count": null,
      "metadata": {
        "id": "q_ZNRXex8ASC"
      },
      "outputs": [],
      "source": [
        "#El costo del seguro es mayor entre los 45 y 55 años.\n",
        "#El género no aparenta tener algún tipo de relación con el precio del seguro.\n",
        "#La relación entre el BMI y el costo del seguro es difusa.\n",
        "#Entre menos hijos tenga una persona, mayor es el costo del seguro.\n",
        "#Los fumadores presentan un mayor costo en su seguro.\n",
        "#Al ser del suroeste se cobra menos por el seguro."
      ]
    },
    {
      "cell_type": "markdown",
      "metadata": {
        "id": "RSRQf2Hv8JMr"
      },
      "source": [
        "4. **Regresión lineal**. En su forma más simple, consiste en asumir que una variable $x$ y una variable $y$ presentan una relación lineal de la forma:\n",
        "\n",
        "$$ y \\approx \\beta_0 + \\beta_1 \\cdot x$$\n",
        "\n",
        "¿Cuál es el valor de beta_0 , beta_1 y el Score  para **Edad vs Costo** , **Indice de masa corporal vs Costo** , **Niños vs Costo** y otros?"
      ]
    },
    {
      "cell_type": "code",
      "execution_count": 4,
      "metadata": {
        "id": "nzWOFphW_nJ9",
        "colab": {
          "base_uri": "https://localhost:8080/"
        },
        "outputId": "e64bacce-8301-4ed2-fb2e-2bfa2c473139"
      },
      "outputs": [
        {
          "output_type": "stream",
          "name": "stdout",
          "text": [
            "Age\n",
            "beta_0:  3165.885006063021\n",
            "beta_1:  [257.72261867]\n",
            "Score:  0.08940589967885804 \n",
            "\n",
            "BMI\n",
            "beta_0:  1192.9372089611497\n",
            "beta_1:  [393.8730308]\n",
            "Score:  0.03933913991786264 \n",
            "\n",
            "Children\n",
            "beta_0:  12522.495549644098\n",
            "beta_1:  [683.08938248]\n",
            "Score:  0.004623758854459203 \n",
            "\n",
            "Sex\n",
            "beta_0:  13956.751177721893\n",
            "beta_1:  [-1387.17233389]\n",
            "Score:  0.003282380391360862 \n",
            "\n",
            "Smoker\n",
            "beta_0:  8434.2682978562\n",
            "beta_1:  [23615.96353368]\n",
            "Score:  0.6197648148218988 \n",
            "\n",
            "Region\n",
            "beta_0:  14088.745390518741\n",
            "beta_1:  [-550.48584301]\n",
            "Score:  0.0025226707691909933 \n",
            "\n"
          ]
        }
      ],
      "source": [
        "# Edad\n",
        "lm1 = LinearRegression()\n",
        "lm1.fit(insurance[['age']], insurance['charges'])\n",
        "print('Age')\n",
        "print('beta_0: ', lm1.intercept_)\n",
        "print('beta_1: ', lm1.coef_)\n",
        "print('Score: ', lm1.score(insurance[['age']], insurance['charges']), '\\n')\n",
        "\n",
        "# BMI\n",
        "lm2 = LinearRegression()\n",
        "lm2.fit(insurance[['bmi']], insurance['charges'])\n",
        "print('BMI')\n",
        "print('beta_0: ', lm2.intercept_)\n",
        "print('beta_1: ', lm2.coef_)\n",
        "print('Score: ', lm2.score(insurance[['bmi']], insurance['charges']), '\\n')\n",
        "\n",
        "# Children\n",
        "lm3 = LinearRegression()\n",
        "lm3.fit(insurance[['children']], insurance['charges'])\n",
        "print('Children')\n",
        "print('beta_0: ', lm3.intercept_)\n",
        "print('beta_1: ', lm3.coef_)\n",
        "print('Score: ', lm3.score(insurance[['children']], insurance['charges']), '\\n')\n",
        "\n",
        "# Sex\n",
        "lm4 = LinearRegression()\n",
        "lm4.fit(insurance[['sex']], insurance['charges'])\n",
        "print('Sex')\n",
        "print('beta_0: ', lm4.intercept_)\n",
        "print('beta_1: ', lm4.coef_)\n",
        "print('Score: ', lm4.score(insurance[['sex']], insurance['charges']), '\\n')\n",
        "\n",
        "# Smoker\n",
        "lm5 = LinearRegression()\n",
        "lm5.fit(insurance[['smoker']], insurance['charges'])\n",
        "print('Smoker')\n",
        "print('beta_0: ', lm5.intercept_)\n",
        "print('beta_1: ', lm5.coef_)\n",
        "print('Score: ', lm5.score(insurance[['smoker']], insurance['charges']), '\\n')\n",
        "\n",
        "# Region\n",
        "lm6 = LinearRegression()\n",
        "lm6.fit(insurance[['region']], insurance['charges'])\n",
        "print('Region')\n",
        "print('beta_0: ', lm6.intercept_)\n",
        "print('beta_1: ', lm6.coef_)\n",
        "print('Score: ', lm6.score(insurance[['region']], insurance['charges']), '\\n')"
      ]
    },
    {
      "cell_type": "markdown",
      "metadata": {
        "id": "RdEqq0sF_nid"
      },
      "source": [
        "5. ¿Cuál de los modelos es mejor de acuerdo al score ordenalos del mejor al peor?"
      ]
    },
    {
      "cell_type": "markdown",
      "metadata": {
        "id": "0vdminTh_t3A"
      },
      "source": [
        "#Modelos de mejor a peor\n",
        "1. Smoker - Charges\n",
        "2. Age - Charges\n",
        "3. BMI - Charges\n",
        "4. Children - Charges\n",
        "5. Sex - Charges\n",
        "6. Region - Charges"
      ]
    },
    {
      "cell_type": "markdown",
      "metadata": {
        "id": "CM4Jdqtk_zIO"
      },
      "source": [
        "6.  **Regresión lineal múltiple**. Como ahora vamos a incluir más de una variable, el modelo se rescribe a :\n",
        "\n",
        "$$ \\hat{y} = \\hat{\\beta}_0 + \\hat{\\beta}_1 \\cdot x_1 + \\hat{\\beta}_2 \\cdot x_2 + \\hat{\\beta}_3\\cdot x_3 + \\ldots \\epsilon $$\n",
        "\n",
        "Elige  las diferentes combinaciones de variables. Ejemplo: Redes y Youtube vs Ventas \n",
        "\n",
        "¿Cuál es el valor de beta_0, betas_1 , beta_2 , el score y el score ajustado de de 5 combinaciones . Ejemplo: **Edad, Niños, Region vs Costo** ?"
      ]
    },
    {
      "cell_type": "code",
      "execution_count": 7,
      "metadata": {
        "id": "lCS6xvRt__Kx",
        "colab": {
          "base_uri": "https://localhost:8080/"
        },
        "outputId": "e0b47717-5d1f-4526-ddea-6321cab47912"
      },
      "outputs": [
        {
          "output_type": "stream",
          "name": "stdout",
          "text": [
            "Age and Children\n",
            "beta_0:  2636.0417416124474\n",
            "betas:  [255.69471256 556.52710886]\n",
            "Score:  0.09246947629807334\n",
            "Score ajustado: 0.09110988000788312 \n",
            "\n",
            "Age and Region\n",
            "beta_0:  3992.438162566252\n",
            "betas:  [ 257.83748204 -559.05165463]\n",
            "Score:  0.0920076713207213\n",
            "Score ajustado: 0.09064738318786847 \n",
            "\n",
            "Age and BMI\n",
            "beta_0:  -6424.804612240765\n",
            "betas:  [241.9307779  332.96509081]\n",
            "Score:  0.11718338606939949\n",
            "Score ajustado: 0.11586081436313644 \n",
            "\n",
            "Children and Region\n",
            "beta_0:  13361.278530463189\n",
            "betas:  [ 702.50652477 -578.55090085]\n",
            "Score:  0.007406473845163353\n",
            "Score ajustado: 0.0059194423453059475 \n",
            "\n",
            "Children and BMI\n",
            "beta_0:  523.5994914397634\n",
            "betas:  [657.7746999  392.21400059]\n",
            "Score:  0.043625846244526145\n",
            "Score ajustado: 0.04219307597672772 \n",
            "\n"
          ]
        }
      ],
      "source": [
        "def score_adj(X, y, model):\n",
        "    return 1 - (1-model.score(X, y))*(len(y)-1)/(len(y)-X.shape[1]-1)\n",
        "\n",
        "# Edad y Niños\n",
        "lm7 = LinearRegression()\n",
        "lm7.fit(insurance[['age', 'children']], insurance['charges'])\n",
        "print('Age and Children')\n",
        "print('beta_0: ', lm7.intercept_)\n",
        "print('betas: ', lm7.coef_)\n",
        "print('Score: ', lm7.score(insurance[['age', 'children']], insurance['charges']))\n",
        "print('Score ajustado:', score_adj(insurance[['age', 'children']],\n",
        "                                   insurance['charges'], lm7), '\\n')\n",
        "\n",
        "# Edad y Region\n",
        "lm8 = LinearRegression()\n",
        "lm8.fit(insurance[['age', 'region']], insurance['charges'])\n",
        "print('Age and Region')\n",
        "print('beta_0: ', lm8.intercept_)\n",
        "print('betas: ', lm8.coef_)\n",
        "print('Score: ', lm8.score(insurance[['age', 'region']], insurance['charges']))\n",
        "print('Score ajustado:', score_adj(insurance[['age', 'region']],\n",
        "                                   insurance['charges'], lm8), '\\n')\n",
        "\n",
        "# Edad y BMI\n",
        "lm9 = LinearRegression()\n",
        "lm9.fit(insurance[['age', 'bmi']], insurance['charges'])\n",
        "print('Age and BMI')\n",
        "print('beta_0: ', lm9.intercept_)\n",
        "print('betas: ', lm9.coef_)\n",
        "print('Score: ', lm9.score(insurance[['age', 'bmi']], insurance['charges']))\n",
        "print('Score ajustado:', score_adj(insurance[['age', 'bmi']],\n",
        "                                   insurance['charges'], lm9), '\\n')\n",
        "\n",
        "# Niños y Region\n",
        "lm10 = LinearRegression()\n",
        "lm10.fit(insurance[['children', 'region']], insurance['charges'])\n",
        "print('Children and Region')\n",
        "print('beta_0: ', lm10.intercept_)\n",
        "print('betas: ', lm10.coef_)\n",
        "print('Score: ', lm10.score(insurance[['children', 'region']], insurance['charges']))\n",
        "print('Score ajustado:', score_adj(insurance[['children', 'region']],\n",
        "                                   insurance['charges'], lm10), '\\n')\n",
        "\n",
        "# Niños y BMI\n",
        "lm11 = LinearRegression()\n",
        "lm11.fit(insurance[['children', 'bmi']], insurance['charges'])\n",
        "print('Children and BMI')\n",
        "print('beta_0: ', lm11.intercept_)\n",
        "print('betas: ', lm11.coef_)\n",
        "print('Score: ', lm11.score(insurance[['children', 'bmi']], insurance['charges']))\n",
        "print('Score ajustado:', score_adj(insurance[['children', 'bmi']],\n",
        "                                   insurance['charges'], lm11), '\\n')\n"
      ]
    },
    {
      "cell_type": "markdown",
      "metadata": {
        "id": "NYcv7AsM__h6"
      },
      "source": [
        " 7. ¿Cuál modelo es el que nos conviene elegir?"
      ]
    },
    {
      "cell_type": "markdown",
      "metadata": {
        "id": "i37qcOQfAE6e"
      },
      "source": [
        "* El modelo que más conviene es el de edad y niños contra costo, debido a que es el más \"perfecto\" de todos los modelos, siendo el que más se acerca a 1 (tomando en consideración su score ajustado)."
      ]
    },
    {
      "cell_type": "markdown",
      "metadata": {
        "id": "atxWK2HFAJxf"
      },
      "source": [
        "8. Conclusiones "
      ]
    },
    {
      "cell_type": "markdown",
      "metadata": {
        "id": "teauFJW6ALe0"
      },
      "source": [
        "- A00517149 - Gabriel Martínez Berrones: La actividad realizada es una práctica bastante buena para poder prepararse dentro del ámbito del análisis de datos, siendo que se nos muestra el cómo obtener información de un determinado lugar y el cómo procesarla para obtener los resultados deseados.\n",
        "- A00830196 - Alfredo Hernández Lucio: Esta actividad nos permite ver cómo el tener datos no es tener información, si no que hay que realizar un análisis que nos permita ver con claridad qué significan los datos e interpretarlos para poder llegar a conclusiones.\n",
        "- A01721844 - Juan Pablo Chávez Moreira: Esta actividad fue muy útil, no solo para la sintaxis que aprendí, sino también para aprender acerda de la correlación. Se me hizo muy divertido trabajar con datos reales y poder estimar un resultado con los datos que nos daban."
      ]
    },
    {
      "cell_type": "markdown",
      "metadata": {
        "id": "0cIlvxFZiKO-"
      },
      "source": [
        "# Guardar el resultado como pdf\n"
      ]
    },
    {
      "cell_type": "markdown",
      "metadata": {
        "id": "_IQNFksuktzf"
      },
      "source": [
        "* Escribe aquí abajo la liga de tu repositorio.\n",
        "\n",
        "* (Haz doble clic en esta celda y copia la URL dentro del paréntesis)\n",
        "\n",
        "[Liga al repositorio de Gabriel](https://github.com/Gab0Mtz/semanatec-mayo-22.git)"
      ]
    },
    {
      "cell_type": "markdown",
      "metadata": {
        "id": "3JtYXrhwkrPT"
      },
      "source": [
        "* Exporta el notebook a formato HTML."
      ]
    },
    {
      "cell_type": "code",
      "execution_count": null,
      "metadata": {
        "id": "P5a_7v6biSIg"
      },
      "outputs": [],
      "source": [
        "! jupyter nbconvert --to HTML '/gdrive/MyDrive/SemanaTec/arte-analitica/6.3-Actividad_Regresion_Linea.ipynb'"
      ]
    },
    {
      "cell_type": "markdown",
      "metadata": {
        "id": "kurRcwk7kWU7"
      },
      "source": [
        "* Haz doble clic en el archivo nuevo que se creó dentro de la carpeta `arte-analitica` y en la parte superior derecha dale clic en **imprimir**\n",
        "\n",
        "* Imprime el archivo como *PDF* y súbelo a Canvas."
      ]
    }
  ],
  "metadata": {
    "colab": {
      "collapsed_sections": [],
      "name": "6.3-Actividad_Regresion_Linea.ipynb",
      "provenance": [],
      "toc_visible": true,
      "include_colab_link": true
    },
    "kernelspec": {
      "display_name": "Python 3",
      "language": "python",
      "name": "python3"
    },
    "language_info": {
      "codemirror_mode": {
        "name": "ipython",
        "version": 3
      },
      "file_extension": ".py",
      "mimetype": "text/x-python",
      "name": "python",
      "nbconvert_exporter": "python",
      "pygments_lexer": "ipython3",
      "version": "3.8.5"
    }
  },
  "nbformat": 4,
  "nbformat_minor": 0
}